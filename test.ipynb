{
 "cells": [
  {
   "cell_type": "code",
   "execution_count": 1,
   "metadata": {},
   "outputs": [],
   "source": [
    "import music_tag"
   ]
  },
  {
   "cell_type": "code",
   "execution_count": 2,
   "metadata": {},
   "outputs": [],
   "source": [
    "audio_file = 'media/audio/Vibin_Out_-_FKJ__O_.m4a'"
   ]
  },
  {
   "cell_type": "code",
   "execution_count": 3,
   "metadata": {},
   "outputs": [],
   "source": [
    "audio = music_tag.load_file(str(audio_file))"
   ]
  },
  {
   "cell_type": "code",
   "execution_count": 14,
   "metadata": {},
   "outputs": [
    {
     "data": {
      "text/plain": [
       "\"tracktitle: Vibin' Out\\nartist: FKJ, ((( O )))\\nalbum: French Kiwi Juice\\nalbumartist: FKJ\\ntracknumber: 5\\nyear: 2017\\nlyrics: Fittin' in your vibe and you be stylin' out too quickly\\nMan it's just the way you do it when you move so swiftly\\nVibin' out to you, it makin' me too human\\nSmokin' out the way I feel emotion\\nEmotion\\nSo good it's so bad, it's so bad it's so new\\nI'm wishin' at the end of June\\nClouds in my shroud in my vision grow clearly\\nCan't see ahead if I'm fine when I leave me\\nWhat is the sayin' when you should let go\\nWhat is so impossible?\\nDo me like that with a smile, with a smack\\nWith a you nose, you know me, no you know me better\\nNo rainy, no windy, no sun\\nJust music and just with the one\\nI'm fine like that, fine like that, fine\\nI never be losin', I've won every time\\nNo, you know knows me no better like that\\nFittin' in, your styling out too quickly\\nMan it's in the way you do when you move so swiftly\\nVibin' out to you make me too human\\nSmokin' out the way I feel emotion\\nIt's so good it's so bad, it's so bad it's so new\\nWishin' at the end of June\\nClouds in my shroud in my vision grow clearly\\nCan't see ahead if I'm fine when I be leavin' me\\nWhat is the sayin' when you let go\\nWhat is so impossible though?\\nDo me like that with a smile, with a smack\\nWith all your nose you know better like that\\nWhen we be on the scene when ya gottem\\nWingin' me weather\\nNo rainy, no windy, no sun\\nJust music and just with the one\\nI'm fine like, that fine like that, fine\\nI never be losin', I've won every time\\nNo it's\\nUp from above it don't leave me behind\\nIt's around all the Earth, and we know it's divine, yes\\nWhen I'll be emptyin' all of my mind, i see\\n\\n\\nartwork: image/jpeg 500x500 c38f32c2bd7031e3765abb433455957e\""
      ]
     },
     "execution_count": 14,
     "metadata": {},
     "output_type": "execute_result"
    }
   ],
   "source": [
    "audio.info()"
   ]
  },
  {
   "cell_type": "code",
   "execution_count": 23,
   "metadata": {},
   "outputs": [
    {
     "data": {
      "text/plain": [
       "311"
      ]
     },
     "execution_count": 23,
     "metadata": {},
     "output_type": "execute_result"
    }
   ],
   "source": [
    "(int(audio['#length']))"
   ]
  },
  {
   "cell_type": "code",
   "execution_count": null,
   "metadata": {},
   "outputs": [],
   "source": [
    "audio.get"
   ]
  },
  {
   "cell_type": "code",
   "execution_count": 28,
   "metadata": {},
   "outputs": [],
   "source": [
    "art = audio['artwork']"
   ]
  },
  {
   "cell_type": "code",
   "execution_count": 31,
   "metadata": {},
   "outputs": [
    {
     "data": {
      "text/plain": [
       "500"
      ]
     },
     "execution_count": 31,
     "metadata": {},
     "output_type": "execute_result"
    }
   ],
   "source": [
    "art.first.height"
   ]
  },
  {
   "cell_type": "code",
   "execution_count": 32,
   "metadata": {},
   "outputs": [
    {
     "data": {
      "text/plain": [
       "PIL.JpegImagePlugin.JpegImageFile"
      ]
     },
     "execution_count": 32,
     "metadata": {},
     "output_type": "execute_result"
    }
   ],
   "source": [
    "audio['artwork'].first.thumbnail([500, 500])"
   ]
  },
  {
   "cell_type": "code",
   "execution_count": null,
   "metadata": {},
   "outputs": [],
   "source": [
    "au"
   ]
  },
  {
   "cell_type": "code",
   "execution_count": null,
   "metadata": {},
   "outputs": [],
   "source": [
    "\n",
    "instance.title = audio['tracktitle'] if instance.title  == None and 'tracktitle' in audio.tag_map.keys() else None\n",
    "instance.artist = audio['artist'] if instance.artist  == None and 'artist' in audio.tag_map.keys() else None\n",
    "instance.album = audio['album'] if instance.album  == None and 'album' in audio.tag_map.keys() else None\n",
    "instance.album_artist = audio['albumartist'] if instance.album_artist  == None and 'albumartist' in audio.tag_map.keys() else None\n",
    "instance.track_number = audio['tracknumber'] if instance.track_number  == None and 'tracknumber' in audio.tag_map.keys() else None\n",
    "instance.lyrics = audio['lyrics'] if instance.lyrics  == None and 'lyrics' in audio.tag_map.keys() else None"
   ]
  }
 ],
 "metadata": {
  "kernelspec": {
   "display_name": "venv",
   "language": "python",
   "name": "python3"
  },
  "language_info": {
   "codemirror_mode": {
    "name": "ipython",
    "version": 3
   },
   "file_extension": ".py",
   "mimetype": "text/x-python",
   "name": "python",
   "nbconvert_exporter": "python",
   "pygments_lexer": "ipython3",
   "version": "3.10.6"
  },
  "orig_nbformat": 4
 },
 "nbformat": 4,
 "nbformat_minor": 2
}
