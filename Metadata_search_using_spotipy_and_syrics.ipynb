{
 "cells": [
  {
   "cell_type": "code",
   "execution_count": 1,
   "metadata": {},
   "outputs": [],
   "source": [
    "import os\n",
    "import spotipy\n",
    "import music_tag\n",
    "from spotipy.oauth2 import SpotifyClientCredentials\n",
    "from syrics.api import Spotify"
   ]
  },
  {
   "cell_type": "code",
   "execution_count": 2,
   "metadata": {},
   "outputs": [],
   "source": [
    "cid = 'ad89004e3ede4c50a73c6a8dd4d33718'\n",
    "secret = 'aa09d86eaf644fd2a4d997ca0dac7cfc'\n",
    "\n",
    "#Authentication - without user\n",
    "client_credentials_manager = SpotifyClientCredentials(client_id=cid, client_secret=secret)\n",
    "sp = spotipy.Spotify(client_credentials_manager = client_credentials_manager)\n",
    "\n",
    "sp_dc_key = 'AQCbN61HvOcVYIy91ATyuhycbR1f3ByrHnavCRkFFXTtrP_uw5Pql_fsoyPn4p6XTSpsM8vg-FNKKOXqiPNXGgWGSCTzdsHHtwaX-9c2ljlKM_A2I-02wFPCepW486Ygknwcvq2NqcVJvaZbIOueYPl612k-NG0'\n",
    "sp_lyric = Spotify(sp_dc_key)"
   ]
  },
  {
   "cell_type": "code",
   "execution_count": 3,
   "metadata": {},
   "outputs": [],
   "source": [
    "all_songs = os.listdir('All songs')\n",
    "song_dir = 'All songs/'\n",
    "image_dir = 'All images/'"
   ]
  },
  {
   "cell_type": "code",
   "execution_count": 5,
   "metadata": {},
   "outputs": [],
   "source": [
    "for song in all_songs:\n",
    "    audio_file = music_tag.load_file(song_dir + song)\n",
    "    title_and_artist = song.split(' - ')\n",
    "    title = title_and_artist[0]\n",
    "    artist_split = ' - '.join(title_and_artist[1:]) if len(title_and_artist) > 2 else title_and_artist[1]\n",
    "    artist = \".\".join(artist_split.split('.')[:-1])\n",
    "    image_file = image_dir + title + ' - ' + artist + \".jpg\"\n",
    "    audio_file['tracktitle'] = title\n",
    "    audio_file['artist'] = artist\n",
    "    with open(image_file, 'rb') as img:\n",
    "        audio_file['artwork'] = img.read()\n",
    "\n",
    "    search_result = sp.search('https://api.spotify.com/v1/search?q=track:\"' + title + '\"%20artist:\"' + artist + '\"&type=track')\n",
    "    if len(search_result['tracks']['items']) == 0:\n",
    "        print(song, \"fetching failed\")\n",
    "        continue\n",
    "    song_id = search_result['tracks']['items'][0]['id']\n",
    "    song_search = sp.track(song_id)\n",
    "    \n",
    "    track_number = song_search['track_number']\n",
    "    album = song_search['album']['name']\n",
    "    album_artists = ', '.join([artist['name'] for artist in song_search['album']['artists']])\n",
    "    year = song_search['album']['release_date'][:4]\n",
    "    \n",
    "    lyrics = \"\"\n",
    "    lyrics_response = sp_lyric.get_lyrics(song_id)\n",
    "    if lyrics_response:\n",
    "        for line in lyrics_response['lyrics']['lines']:\n",
    "            diff = int(line['endTimeMs']) - int(line['startTimeMs'])\n",
    "            lyrics = lyrics + line['words'] + \"\\n\"\n",
    "            if lyrics != \"\" and diff > 7000:\n",
    "                lyrics += \"\\n\"\n",
    "\n",
    "    audio_file['year'] = year\n",
    "    audio_file['album'] = album\n",
    "    audio_file['tracknumber'] = track_number\n",
    "    audio_file['albumartist'] = album_artists\n",
    "    audio_file['lyrics'] = lyrics\n",
    "\n",
    "    audio_file.save()\n"
   ]
  },
  {
   "attachments": {},
   "cell_type": "markdown",
   "metadata": {},
   "source": [
    "# Testing"
   ]
  },
  {
   "cell_type": "code",
   "execution_count": 25,
   "metadata": {},
   "outputs": [],
   "source": [
    "model_song = music_tag.load_file('/home/neeraj/Music/Space Song.m4a')"
   ]
  },
  {
   "cell_type": "code",
   "execution_count": 26,
   "metadata": {},
   "outputs": [
    {
     "data": {
      "text/plain": [
       "{'tracktitle': TAG_MAP_ENTRY(getter='©nam', setter='©nam', remover=None, type=<class 'str'>, sanitizer=None),\n",
       " 'artist': TAG_MAP_ENTRY(getter='©ART', setter='©ART', remover=None, type=<class 'str'>, sanitizer=None),\n",
       " 'album': TAG_MAP_ENTRY(getter='©alb', setter='©alb', remover=None, type=<class 'str'>, sanitizer=None),\n",
       " 'albumartist': TAG_MAP_ENTRY(getter='aART', setter='aART', remover=None, type=<class 'str'>, sanitizer=None),\n",
       " 'composer': TAG_MAP_ENTRY(getter='©wrt', setter='©wrt', remover=None, type=<class 'str'>, sanitizer=None),\n",
       " 'tracknumber': TAG_MAP_ENTRY(getter=<function get_tracknum at 0x7ffbd6cc7520>, setter=<function set_tracknum at 0x7ffbd6cc75b0>, remover=None, type=<class 'int'>, sanitizer=None),\n",
       " 'totaltracks': TAG_MAP_ENTRY(getter=<function get_totaltracks at 0x7ffbd6cc7640>, setter=<function set_totaltracks at 0x7ffbd6cc76d0>, remover=None, type=<class 'int'>, sanitizer=None),\n",
       " 'discnumber': TAG_MAP_ENTRY(getter=<function get_discnum at 0x7ffbd6cc7760>, setter=<function set_discnum at 0x7ffbd6cc77f0>, remover=None, type=<class 'int'>, sanitizer=None),\n",
       " 'totaldiscs': TAG_MAP_ENTRY(getter=<function get_totaldiscs at 0x7ffbd6cc7880>, setter=<function set_totaldiscs at 0x7ffbd6cc7910>, remover=None, type=<class 'int'>, sanitizer=None),\n",
       " 'genre': TAG_MAP_ENTRY(getter='©gen', setter='©gen', remover=None, type=<class 'str'>, sanitizer=None),\n",
       " 'year': TAG_MAP_ENTRY(getter='©day', setter='©day', remover=None, type=<class 'int'>, sanitizer=<function sanitize_year at 0x7ffbec0bff40>),\n",
       " 'compilation': TAG_MAP_ENTRY(getter='cpil', setter='cpil', remover=None, type=<class 'bool'>, sanitizer=<function sanitize_bool at 0x7ffbec0c40d0>),\n",
       " 'lyrics': TAG_MAP_ENTRY(getter='©lyr', setter='©lyr', remover=None, type=<class 'str'>, sanitizer=None),\n",
       " 'isrc': TAG_MAP_ENTRY(getter=<function Mp4File.<lambda> at 0x7ffbd6cc7c70>, setter=<function Mp4File.<lambda> at 0x7ffbd6cc7d00>, remover='----:com.apple.iTunes:ISRC', type=<class 'str'>, sanitizer=None),\n",
       " 'comment': TAG_MAP_ENTRY(getter='©cmt', setter='©cmt', remover=None, type=<class 'str'>, sanitizer=None),\n",
       " 'artwork': TAG_MAP_ENTRY(getter=<function get_artwork at 0x7ffbd6cc79a0>, setter=<function set_artwork at 0x7ffbd6cc7a30>, remover=None, type=<class 'music_tag.file.Artwork'>, sanitizer=None),\n",
       " '#bitrate': TAG_MAP_ENTRY(getter='bitrate', setter=<function setter_not_implemented at 0x7ffbec0bfe20>, remover=None, type=<class 'int'>, sanitizer=None),\n",
       " '#codec': TAG_MAP_ENTRY(getter='codec', setter=<function setter_not_implemented at 0x7ffbec0bfe20>, remover=None, type=<class 'str'>, sanitizer=None),\n",
       " '#length': TAG_MAP_ENTRY(getter='length', setter=<function setter_not_implemented at 0x7ffbec0bfe20>, remover=None, type=<class 'float'>, sanitizer=None),\n",
       " '#channels': TAG_MAP_ENTRY(getter='channels', setter=<function setter_not_implemented at 0x7ffbec0bfe20>, remover=None, type=<class 'int'>, sanitizer=None),\n",
       " '#bitspersample': TAG_MAP_ENTRY(getter='bits_per_sample', setter=<function setter_not_implemented at 0x7ffbec0bfe20>, remover=None, type=<class 'int'>, sanitizer=None),\n",
       " '#samplerate': TAG_MAP_ENTRY(getter='sample_rate', setter=<function setter_not_implemented at 0x7ffbec0bfe20>, remover=None, type=<class 'int'>, sanitizer=None)}"
      ]
     },
     "execution_count": 26,
     "metadata": {},
     "output_type": "execute_result"
    }
   ],
   "source": [
    "model_song.tag_map"
   ]
  },
  {
   "attachments": {},
   "cell_type": "markdown",
   "metadata": {},
   "source": [
    "# Manual Filling"
   ]
  },
  {
   "cell_type": "code",
   "execution_count": 63,
   "metadata": {},
   "outputs": [],
   "source": [
    "theid = '7ucAyhKPjKsLrP14q4mcyo'\n",
    "song_search = sp.track(theid)"
   ]
  },
  {
   "cell_type": "code",
   "execution_count": 64,
   "metadata": {},
   "outputs": [],
   "source": [
    "track_number = song_search['track_number']\n",
    "album = song_search['album']['name']\n",
    "album_artists = ', '.join([artist['name'] for artist in song_search['album']['artists']])\n",
    "year = song_search['album']['release_date'][:4]"
   ]
  },
  {
   "cell_type": "code",
   "execution_count": 65,
   "metadata": {},
   "outputs": [
    {
     "data": {
      "text/plain": [
       "(1, 'Blank', 'Disfigure', '2013')"
      ]
     },
     "execution_count": 65,
     "metadata": {},
     "output_type": "execute_result"
    }
   ],
   "source": [
    "track_number, album, album_artists, year"
   ]
  },
  {
   "cell_type": "code",
   "execution_count": 66,
   "metadata": {},
   "outputs": [
    {
     "name": "stdout",
     "output_type": "stream",
     "text": [
      "\n"
     ]
    }
   ],
   "source": [
    "song = 'Blank - Disfigure.m4a'\n",
    "audio_file = music_tag.load_file('All songs/Blank - Disfigure.m4a')\n",
    "title_and_artist = song.split(' - ')\n",
    "title = title_and_artist[0]\n",
    "artist_split = ' - '.join(title_and_artist[1:]) if len(title_and_artist) > 2 else title_and_artist[1]\n",
    "artist = \".\".join(artist_split.split('.')[:-1])\n",
    "image_file = \"All images/\" + title + ' - ' + artist + \".jpg\"\n",
    "audio_file['tracktitle'] = title\n",
    "audio_file['artist'] = artist\n",
    "with open(image_file, 'rb') as img:\n",
    "    audio_file['artwork'] = img.read()\n",
    "\n",
    "song_search = sp.track(theid)\n",
    "\n",
    "track_number = song_search['track_number']\n",
    "album = song_search['album']['name']\n",
    "album_artists = ', '.join([artist['name'] for artist in song_search['album']['artists']])\n",
    "year = song_search['album']['release_date'][:4]\n",
    "\n",
    "lyrics = \"\"\n",
    "lyrics_response = sp_lyric.get_lyrics(song_id)\n",
    "if lyrics_response:\n",
    "    for line in lyrics_response['lyrics']['lines']:\n",
    "        diff = int(line['endTimeMs']) - int(line['startTimeMs'])\n",
    "        lyrics = lyrics + line['words'] + \"\\n\"\n",
    "        if lyrics != \"\" and diff > 7000:\n",
    "            lyrics += \"\\n\"\n",
    "\n",
    "audio_file['album'] = album\n",
    "audio_file['tracknumber'] = track_number\n",
    "audio_file['albumartist'] = album_artists\n",
    "audio_file['year'] = year\n",
    "\n",
    "#audio_file.save()"
   ]
  }
 ],
 "metadata": {
  "kernelspec": {
   "display_name": "venv",
   "language": "python",
   "name": "python3"
  },
  "language_info": {
   "codemirror_mode": {
    "name": "ipython",
    "version": 3
   },
   "file_extension": ".py",
   "mimetype": "text/x-python",
   "name": "python",
   "nbconvert_exporter": "python",
   "pygments_lexer": "ipython3",
   "version": "3.10.6"
  },
  "orig_nbformat": 4
 },
 "nbformat": 4,
 "nbformat_minor": 2
}
